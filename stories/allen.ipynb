{
 "metadata": {
  "name": "",
  "signature": "sha256:305c0cee97d6e835c6fc6c1ef80d5abcd784ce2ed933a6846e87cefd140302a1"
 },
 "nbformat": 3,
 "nbformat_minor": 0,
 "worksheets": [
  {
   "cells": [
    {
     "cell_type": "markdown",
     "metadata": {},
     "source": [
      "Hello! I'm Allen, a project person. I don't think there are enough blogs out there that <a href='../posts/math-cat.html'>integrate cats with data</a>, so here's another one. \n",
      "\n",
      "Some bit about me:\n",
      "<ul>\n",
      "<li>My first Python program iterated through the 99 bottles of beer on the wall song.\n",
      "<li>I'm currently working on figuring out smartphone PINs via smartwatch accelerometer data analysis.\n",
      "<li>I have a companion cat who likes to sleep on my math books and notes. She probably knows more linear algebra than I do at this point. \n",
      "</ul>\n",
      "\n",
      "Contact me at programminglinguist@gmail.com\n",
      "\n",
      "Github - https://github.com/Nixonite"
     ]
    }
   ],
   "metadata": {}
  }
 ]
}