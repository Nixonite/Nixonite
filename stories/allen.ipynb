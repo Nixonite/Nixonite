{
 "cells": [
  {
   "cell_type": "markdown",
   "metadata": {},
   "source": [
    "Hello! I'm Allen, a project person. I don't think there are enough blogs out there that <a href='../posts/math-cat.html'>integrate cats with data</a>, so here's another one. \n",
    "\n",
    "Some bit about me:\n",
    "<ul>\n",
    "<li>My first Python program iterated through the 99 bottles of beer on the wall song.\n",
    "<li>I'm currently working on chess data analysis.\n",
    "<li>I have a degree in math and work as a data analyst in order to support my ridiculously expensive lifestyle choices. \n",
    "<li>I have a companion cat who likes to sleep on my math books and notes. She probably knows more linear algebra than I do at this point. \n",
    "</ul>\n",
    "\n",
    "Contact me at programminglinguist@gmail.com\n",
    "\n",
    "Github - https://github.com/Nixonite"
   ]
  },
  {
   "cell_type": "code",
   "execution_count": null,
   "metadata": {
    "collapsed": true
   },
   "outputs": [],
   "source": []
  }
 ],
 "metadata": {
  "kernelspec": {
   "display_name": "Python 2",
   "language": "python",
   "name": "python2"
  },
  "language_info": {
   "codemirror_mode": {
    "name": "ipython",
    "version": 2
   },
   "file_extension": ".py",
   "mimetype": "text/x-python",
   "name": "python",
   "nbconvert_exporter": "python",
   "pygments_lexer": "ipython2",
   "version": "2.7.6"
  }
 },
 "nbformat": 4,
 "nbformat_minor": 0
}
