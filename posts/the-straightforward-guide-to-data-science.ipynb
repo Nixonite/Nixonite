{
 "metadata": {
  "name": "",
  "signature": "sha256:31ce354e5dc55770a95ded560e7b4500774763b2c07a9137d0b7bf6f0c996b96"
 },
 "nbformat": 3,
 "nbformat_minor": 0,
 "worksheets": [
  {
   "cells": [
    {
     "cell_type": "markdown",
     "metadata": {},
     "source": [
      "The best guide to getting into the field of data science has been a tiny repo on Github called \"go\" which can be seen <a href='https://github.com/datasciencemasters/go'>here.</a>\n",
      "\n",
      "Although it is a thorough guide, there's too much noise and it's actually overwhelming to see so many different topics to study at once. I have now compiled a shorter and more straightforward guide to getting into data science without sacrificing theory or practice. \n",
      "\n",
      "I present to you, the straightforward guide to data science.\n",
      "\n",
      "<ol>\n",
      "<h3>Math</h3>\n",
      "<li>Get acquainted with 3 courses of calculus (differential, integral, multivariate) and make sure to not skim over partial derivatives and gradients.\n",
      "<li>Learn about linear algebra. You don't need a proof based course, <a href='http://smile.amazon.com/Linear-Algebra-Its-Applications-4th/dp/0030105676/ref=sr_1_1?s=books&ie=UTF8&qid=1427744788&sr=1-1&keywords=linear+algebra+and+applications'>and a good book (any edition) for this is written by Gilbert Strang</a>\n",
      "<li>Understand differential equations with <a href='https://www.google.com/webhp?sourceid=chrome-instant&ion=1&espv=2&ie=UTF-8#q=boyce%20diprima%20differential%20equations%20pdf'>this book (any edition)</a>\n",
      "<li>Get some probability and statistics under your belt! I recommend <a href='http://www.amazon.com/All-Statistics-Statistical-Inference-Springer/dp/0387402721'>\"All of Statistics\" by Larry Wasserman.</a> This is a hard book, so it's okay to only read the first part of it on Probability (section I up to ~87 pages?) for now. You will however want to read the rest of it for list item #9.\n",
      "\n",
      "<h3>Code</h3>\n",
      "<li>You should absolutely know how to code in Python or R! It doesn't matter which you start with because after you've mastered one, you should learn the other... eventually. <a href='http://learnpythonthehardway.org/'>Here's</a> where you should learn Python, and <a href='http://www.ats.ucla.edu/stat/r/'>here's</a> where you should look to start learning R. Don't learn both at once since it will take away time from other studies.</li>\n",
      "<li>Learn how to use the basic scientific tools of the language. As a Python person, this would be <a href=\"http://www.numpy.org/\">numpy</a>, <a href=\"http://www.scipy.org/\">scipy</a>, <a href=\"http://matplotlib.org/\">matplotlib</a>, and <a href=\"http://scikit-learn.org/stable/\">scikit-learn.</a></li>\n",
      "<li>Learn SQL from either <a href=\"http://www.amazon.com/dp/0596520832/ref=wl_it_dp_o_pC_nS_img?_encoding=UTF8&colid=1OXMYVW6R7FEI&coliid=I1XY3C93V9W1NY\">a book</a> or some <a href=\"http://www.tizag.com/sqlTutorial/\">tutorials.</a></li>\n",
      "<li>Before you can mess around with models, you have to clean the data. <a href='http://smile.amazon.com/Python-Data-Analysis-Wrangling-IPython/dp/1449319793/ref=sr_1_1?ie=UTF8&qid=1427745734&sr=8-1&keywords=data+wrangling'>Read a book on data wrangling, like this one.</a>\n",
      "\n",
      "<h3>Gentle Guide to Data Analysis</h3>\n",
      "<li>Study these books:<ul>\n",
      "                    <li><a href='http://www.amazon.com/Mastering-Machine-Learning-With-scikit-learn/dp/1783988363'>Mastering Machine Learning with Scikit-Learn</a> (uses Python)\n",
      "                    <li><a href='http://www-bcf.usc.edu/~gareth/ISL/'>Introduction to Statistical Learning</a> (uses R)\n",
      "                    </ul>\n",
      "\n",
      "<h3>Hard Guide to Data Analysis</h3>\n",
      "<li><ul>Pick at least two: \n",
      "<li><a href='http://statweb.stanford.edu/~tibs/ElemStatLearn/'>Elements of Statistical Learning</a>\n",
      "<li><a href='http://smile.amazon.com/Introduction-Machine-Learning-Adaptive-Computation/dp/026201243X/ref=sr_1_2?ie=UTF8&qid=1428124640&sr=8-2&keywords=introduction+to+machine+learning'>Introduction to Machine Learning (Adaptive Computation and Machine Learning Series)</a>\n",
      "<li><a href='http://smile.amazon.com/Machine-Learning-Science-Algorithms-Sense/dp/1107422221/ref=sr_1_1?ie=UTF8&qid=1428174041&sr=8-1&keywords=machine+learning'>Machine Learning: The Art and Science of Algorithms that Make Sense of Data</a>\n",
      "</ul>\n",
      "\n",
      "<h3>Pretty Pictures and More Tools</h3>\n",
      "<li>Visualization: <a href='http://d3js.org/'>Learn how to use D3.js</a> or an equivalent fancy-visuals tool.\n",
      "<li>Learn the other language (i.e. if you started with Python, now learn R)\n",
      "<li>Learn how to use MongoDB, and read a book on <a href='http://www.amazon.com/Hadoop-Definitive-Guide-Tom-White/dp/1491901632'>Hadoop.</a>\n",
      "\n",
      "</ol>\n",
      "\n",
      "\n",
      "Congrats you're highly employable now!"
     ]
    }
   ],
   "metadata": {}
  }
 ]
}