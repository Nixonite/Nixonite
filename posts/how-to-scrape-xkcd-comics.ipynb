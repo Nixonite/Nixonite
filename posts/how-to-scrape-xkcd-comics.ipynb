{
 "metadata": {
  "name": "",
  "signature": "sha256:bb399323c13c3a5459e0113a00a607715bd804deb57874c52ba538e5e9254470"
 },
 "nbformat": 3,
 "nbformat_minor": 0,
 "worksheets": [
  {
   "cells": [
    {
     "cell_type": "markdown",
     "metadata": {},
     "source": [
      "The first step in any web scraping adventure is to figure out where the hell the data is hiding, and how you can systematically access it. Let\u2019s look at an XKCD page. The pattern is that the url increments by 1 with each comic\n",
      "\n",
      "http://xkcd.com/1/\n",
      "\n",
      "http://xkcd.com/2/\n",
      "\n",
      "http://xkcd.com/3/\n",
      "\n",
      "and so on.\n",
      "\n",
      "If you try to search for all \u201cimg\u201d tags then you\u2019ll fail for the reason that the header includes an image too. Instead you should look at the html source for something unique about the comics. Let\u2019s see\u2026.\n",
      "\n",
      "<img src='../galleries/xkcd-scraper/xkcd-scrape-screenshot.jpg'>\n",
      "\n",
      "\n",
      "Aha! It seems that the comic is wrapped inside a div tag with a unique \u201ccomic\u201d id.\n",
      "\n",
      "Let\u2019s get started then:"
     ]
    },
    {
     "cell_type": "code",
     "collapsed": false,
     "input": [
      "import requests\n",
      "from bs4 import BeautifulSoup\n",
      "\n",
      "page = requests.get(\"http://xkcd.com/1\").content\n",
      "\n",
      "soup = BeautifulSoup(page)\n",
      "\n",
      "comicImageBlock = soup.find(\"div\",{\"id\":\"comic\"})\n",
      "\n",
      "comicImageTag = comicImageBlock.find(\"img\")\n",
      "\n",
      "comicURL = comicImageTag['src']\n",
      "\n",
      "print comicURL"
     ],
     "language": "python",
     "metadata": {},
     "outputs": [
      {
       "output_type": "stream",
       "stream": "stdout",
       "text": [
        "//imgs.xkcd.com/comics/barrel_cropped_(1).jpg\n"
       ]
      }
     ],
     "prompt_number": 3
    },
    {
     "cell_type": "markdown",
     "metadata": {},
     "source": [
      "What just happened?\n",
      "\n",
      "<!-- TEASER_END -->\n",
      "\n",
      "We let the requests module fetch the page html source for us (the \u201ccontent\u201d prints the html source) and it is then handed to BeautifulSoup for parsing.\n",
      "\n",
      "I then told the soup object to find me the div tag with an \u201cid\u201d of value \u201ccomic.\u201d This is passed as a dictionary as you can tell with the curly brackets, and it is specifically finding it inside a div tag so it is unique for our XKCD comic.\n",
      "\n",
      "The comicImageBlock looks like this:"
     ]
    },
    {
     "cell_type": "code",
     "collapsed": false,
     "input": [
      "<span class=\"s1\"><div id=\"comic\">\n",
      "</span><img alt=\"Barrel - Part 1\" src=\"http://imgs.xkcd.com/comics/barrel_cropped_(1).jpg\" title=\"Don't we all.\"/></div>"
     ],
     "language": "python",
     "metadata": {},
     "outputs": []
    },
    {
     "cell_type": "markdown",
     "metadata": {},
     "source": [
      "We now want to extract the img tag from inside of it so we tell it to further search for \u201cimg\u201d with the find() method once more. It can also just have been appended at the end of the code block line, but the variable names provide a more clear illustration of what is going on (for a nicer tutorial).\n",
      "\n",
      "The comicImageTag prints to this:"
     ]
    },
    {
     "cell_type": "code",
     "collapsed": false,
     "input": [
      "<span class=\"s1\"><img alt=\"Barrel - Part 1\" src=\"http://imgs.xkcd.com/comics/barrel_cropped_(1).jpg\" title=\"Don't we all.\"/></span>"
     ],
     "language": "python",
     "metadata": {},
     "outputs": []
    },
    {
     "cell_type": "markdown",
     "metadata": {},
     "source": [
      "Finally we want to just extract the url or link for the comic which is just the value of the \u201csrc\u201d parameter. We do this by calling it with comicImageTag[\u2018src\u2019] in the style of a dictionary key and value.\n",
      "\n",
      "Our final result should just print"
     ]
    },
    {
     "cell_type": "code",
     "collapsed": false,
     "input": [
      "http://imgs.xkcd.com/comics/barrel_cropped_(1).jpg"
     ],
     "language": "python",
     "metadata": {},
     "outputs": []
    },
    {
     "cell_type": "markdown",
     "metadata": {},
     "source": [
      "If you try this for each page of XKCD comics, you should end up with all of them. Yay. The rest is just knowing how to use Python to download an image. <a href=\"http://pythonmining.com/posts/scraping-images-with-python.html\">Here's a tutorial for that too.</a>"
     ]
    }
   ],
   "metadata": {}
  }
 ]
}