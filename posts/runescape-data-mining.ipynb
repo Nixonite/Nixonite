{
 "cells": [
  {
   "cell_type": "markdown",
   "metadata": {
    "collapsed": false
   },
   "source": [
    "The Runescape API is a <u>disappointment</u>, so I just scraped the market (Grand Exchange prices for items) data from the fan site at <a href='http://www.grandexchangewatch.com/'>GrandExchangeWatch</a>. It took a couple of days to store years of item price data into a MongoDB collection, but there was also the problem of cleaning said data.\n",
    "\n",
    "<img src='../galleries/runescape-data-mining/gewatch.png'>\n",
    "\n",
    "<b>After hours and hours of grueling labor, the mostly-clean dataset can be found on my Github page right over <a href='https://github.com/Nixonite/Runescape-Grand-Exchange-Market-Data'>here.</a></b>\n",
    "\n",
    "<img src='../galleries/runescape-data-mining/datahead.png'>\n",
    "\n",
    "It comes with a ~30MB zip file which expands into a 3.5 million line CSV file (~300MB), and some notebooks for scraping the fan site, and a basic super simple analysis page which took my old dataset, cleaned it, and tossed a polynomial curve onto a single item's history.\n",
    "\n",
    "Hope others can make good use of that dataset. "
   ]
  }
 ],
 "metadata": {
  "kernelspec": {
   "display_name": "Python 2",
   "language": "python",
   "name": "python2"
  },
  "language_info": {
   "codemirror_mode": {
    "name": "ipython",
    "version": 2
   },
   "file_extension": ".py",
   "mimetype": "text/x-python",
   "name": "python",
   "nbconvert_exporter": "python",
   "pygments_lexer": "ipython2",
   "version": "2.7.6"
  }
 },
 "nbformat": 4,
 "nbformat_minor": 0
}
