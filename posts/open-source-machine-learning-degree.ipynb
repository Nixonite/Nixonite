{
 "cells": [
  {
   "cell_type": "markdown",
   "metadata": {
    "collapsed": false
   },
   "source": [
    "I made a new site called <a href='http://nixonite.github.io/open-source-machine-learning-degree/'>\"Open Source Machine Learning Degree.\"</a>\n",
    "\n",
    "It's a collection of <b>FREE AS IN FREE BEER</b> books, lengthy notes, and a couple of small tutorial papers — all about machine learning. \n",
    "\n",
    "<img src='../galleries/osmld/topics.png' align='left'>"
   ]
  }
 ],
 "metadata": {
  "kernelspec": {
   "display_name": "Python 2",
   "language": "python",
   "name": "python2"
  },
  "language_info": {
   "codemirror_mode": {
    "name": "ipython",
    "version": 2
   },
   "file_extension": ".py",
   "mimetype": "text/x-python",
   "name": "python",
   "nbconvert_exporter": "python",
   "pygments_lexer": "ipython2",
   "version": "2.7.6"
  }
 },
 "nbformat": 4,
 "nbformat_minor": 0
}
