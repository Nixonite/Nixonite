{
 "metadata": {
  "name": "",
  "signature": "sha256:5da11b320b9a5f5229d01fae6cd9a3616e94063e09d7708f819c4537b9ef108f"
 },
 "nbformat": 3,
 "nbformat_minor": 0,
 "worksheets": [
  {
   "cells": [
    {
     "cell_type": "markdown",
     "metadata": {},
     "source": [
      "So let\u2019s say you have some data and you want to make some simple prediction. Here\u2019s what you do:\n",
      "\n",
      "<ul>\n",
      "<li>get the scikit-learn python module</li>\n",
      "<li>get matplotlib (plotting and graphs module)</li>\n",
      "<li>get the numerical python module</li>\n",
      "</ul>"
     ]
    },
    {
     "cell_type": "code",
     "collapsed": false,
     "input": [
      "from sklearn.linear_model import LinearRegression\n",
      "import numpy as np\n",
      "import matplotlib.pyplot as plt\n",
      "%matplotlib inline\n",
      "\n",
      "x = np.arange(10)\n",
      "y = np.array([i**2 for i in x])\n",
      "\n",
      "x,y"
     ],
     "language": "python",
     "metadata": {},
     "outputs": [
      {
       "metadata": {},
       "output_type": "pyout",
       "prompt_number": 56,
       "text": [
        "(array([0, 1, 2, 3, 4, 5, 6, 7, 8, 9]),\n",
        " array([ 0,  1,  4,  9, 16, 25, 36, 49, 64, 81]))"
       ]
      }
     ],
     "prompt_number": 56
    },
    {
     "cell_type": "markdown",
     "metadata": {},
     "source": [
      "$$\\text{As a set of toy data, I have a range of } x \\text{ 0-9, and } y=x^2 \\text{ for each x}$$"
     ]
    },
    {
     "cell_type": "code",
     "collapsed": false,
     "input": [
      "model = LinearRegression() #create a new instance of a linear regression model\n",
      "\n",
      "model = model.fit(x.reshape(len(x),1),y)\n",
      "#fit the data to the model (see scikit docs for info on specific parameter shapes)\n",
      "\n",
      "predictions = model.predict(x.reshape(len(x),1))#get a list of predictions for the input\n",
      "\n",
      "predictions"
     ],
     "language": "python",
     "metadata": {},
     "outputs": [
      {
       "metadata": {},
       "output_type": "pyout",
       "prompt_number": 57,
       "text": [
        "array([-12.,  -3.,   6.,  15.,  24.,  33.,  42.,  51.,  60.,  69.])"
       ]
      }
     ],
     "prompt_number": 57
    },
    {
     "cell_type": "markdown",
     "metadata": {},
     "source": [
      "Above we see the predicted values for the x array using the linear model."
     ]
    },
    {
     "cell_type": "code",
     "collapsed": false,
     "input": [
      "fig = plt.figure(figsize=(7,7))#make it a big picture\n",
      "plt.plot(x,y,'b.')#plot points with blue dots\n",
      "plt.plot(x,predictions,'r-')#plot the line prediction as a red line\n",
      "plt.show()"
     ],
     "language": "python",
     "metadata": {},
     "outputs": [
      {
       "metadata": {},
       "output_type": "display_data",
       "png": "[encoded data removed]",
       "text": [
        "<matplotlib.figure.Figure at 0x10acdd410>"
       ]
      }
     ],
     "prompt_number": 51
    },
    {
     "cell_type": "code",
     "collapsed": false,
     "input": [
      "from IPython.display import Latex,display_latex\n",
      "display_latex(Latex(r'\\begin{aligned} R^2= \\end{aligned}'))\n",
      "round(model.score(x.reshape(len(x),1),y),3)"
     ],
     "language": "python",
     "metadata": {},
     "outputs": [
      {
       "latex": [
        "\\begin{aligned} R^2= \\end{aligned}"
       ],
       "metadata": {},
       "output_type": "display_data"
      },
      {
       "metadata": {},
       "output_type": "pyout",
       "prompt_number": 158,
       "text": [
        "0.927"
       ]
      }
     ],
     "prompt_number": 158
    }
   ],
   "metadata": {}
  }
 ]
}