{
 "metadata": {
  "name": "",
  "signature": "sha256:f8b666ac27075c4373f576eadf82cf7a8ee44d462802684b083961ad3fa32aa4"
 },
 "nbformat": 3,
 "nbformat_minor": 0,
 "worksheets": [
  {
   "cells": [
    {
     "cell_type": "markdown",
     "metadata": {},
     "source": [
      "Looking for a job can take a while, but at least you'll have a good idea of where to look now.\n",
      "\n",
      "<ul>\n",
      "<li>https://www.employiq.com/\n",
      "<li>https://angel.co/jobs\n",
      "<li>https://www.linkedin.com/\n",
      "<li>http://www.careerbuilder.com/\n",
      "<li>http://www.dice.com/\n",
      "<li>http://www.indeed.com/\n",
      "<li>http://craigslist.org/\n",
      "<li>http://www.glassdoor.com/index.htm\n",
      "<li>https://hired.com/\n",
      "</ul>"
     ]
    }
   ],
   "metadata": {}
  }
 ]
}