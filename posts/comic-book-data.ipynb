{
 "metadata": {
  "name": "",
  "signature": "sha256:abfffd30f1fedda8e97682b124a33bdfb2f82da9ace895e4f26f94abd583f644"
 },
 "nbformat": 3,
 "nbformat_minor": 0,
 "worksheets": [
  {
   "cells": [
    {
     "cell_type": "markdown",
     "metadata": {},
     "source": [
      "I have here a somewhat decent compiled list of comic book data sources for interested parties to analyze. I'm a huge fan of anything Thanos or Warlock related, so naturally comic book data analysis piques my interest."
     ]
    },
    {
     "cell_type": "heading",
     "level": 1,
     "metadata": {},
     "source": [
      "<a href=\"http://developer.marvel.com/\">Marvel Developer API</a>"
     ]
    },
    {
     "cell_type": "markdown",
     "metadata": {},
     "source": [
      "<img src=\"../galleries/comic-book-data/marvel-api.jpg\">\n",
      "\n",
      "First thing's first, I love Marvel's space opera. Thanos, Warlock, Surfer, Galactus, even Pip the Troll. Everything about space opera is exciting because it's all hugely important in the universe of these characters.\n",
      "\n",
      "<!-- TEASER_END -->\n",
      "\n",
      "Anyway, with that said, I'm happy to see that Marvel has released (only released last year (2014)) an API for accessing a huge store of comic book data. The API gives access to useful information like creators, series, and characters but it would also be cool to see some revenue stats in the future. I'm guessing that someone out there might be willing to check that out by connecting the API to the below resource \"comichron.\""
     ]
    },
    {
     "cell_type": "heading",
     "level": 1,
     "metadata": {},
     "source": [
      "<a href=\"http://www.comichron.com/\">The Comics Chronicles</a>"
     ]
    },
    {
     "cell_type": "markdown",
     "metadata": {},
     "source": [
      "<img src=\"../galleries/comic-book-data/comichron.jpg\" >\n",
      "\n",
      "The above page provides an awesome account of comic book popularity in detail from the 90s all the way to present time. Monthly sales, yearly sales, specific issues, you name it it's there. "
     ]
    },
    {
     "cell_type": "heading",
     "level": 1,
     "metadata": {},
     "source": [
      "<a href=\"http://www.chronologyproject.com/index.htm\">Chronology Project</a>"
     ]
    },
    {
     "cell_type": "markdown",
     "metadata": {},
     "source": [
      "<img src=\"../galleries/comic-book-data/chronology-project.jpg\">\n",
      "\n",
      "What is it with these sites and web 1.0 blast-from-the-past user interfaces? They're cool, but I'm definitely seeing a trend here of being stuck in the 90s. Anyway, this project is particularly of interest to data people because it lists the first appearances of each and every comic book character of the Marvel universe. There is an extension of this which will make life easier for a data miner of interest \u2014 see <a href=\"https://aws.amazon.com/datasets/5621954952932508\">here.</a>\n",
      "\n",
      "Yep some people already cleaned it up or something of that nature, and it must be a good dataset to land itself on Amazon's page. A gigantic social graph. "
     ]
    }
   ],
   "metadata": {}
  }
 ]
}