{
 "metadata": {
  "name": "",
  "signature": "sha256:194036cc4fced78a4dfae42620f2efcc4c665ae9db0255612aadcec90bb2425f"
 },
 "nbformat": 3,
 "nbformat_minor": 0,
 "worksheets": [
  {
   "cells": [
    {
     "cell_type": "markdown",
     "metadata": {},
     "source": [
      "<img src='../galleries/mathcat/1.jpg'>\n",
      "<!-- TEASER_END -->\n",
      "<img src='../galleries/mathcat/2.jpg'>\n",
      "<img src='../galleries/mathcat/3.jpg'>\n",
      "<img src='../galleries/mathcat/4.jpg'>\n",
      "<img src='../galleries/mathcat/5.jpg'>\n",
      "<img src='../galleries/mathcat/6.jpg'>\n",
      "<img src='../galleries/mathcat/7.jpg'>\n",
      "<img src='../galleries/mathcat/8.jpg'>\n",
      "<img src='../galleries/mathcat/9.jpg'>\n",
      "<img src='../galleries/mathcat/10.jpg'>\n",
      "<img src='../galleries/mathcat/11.jpg'>\n",
      "<img src='../galleries/mathcat/12.jpg'>"
     ]
    }
   ],
   "metadata": {}
  }
 ]
}