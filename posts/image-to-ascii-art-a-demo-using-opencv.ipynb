{
 "metadata": {
  "name": "",
  "signature": "sha256:13dbbdcee500d1f5f621d9a65b3b74616a75a27b70c58af580bd32e67a44dae3"
 },
 "nbformat": 3,
 "nbformat_minor": 0,
 "worksheets": [
  {
   "cells": [
    {
     "cell_type": "code",
     "collapsed": false,
     "input": [
      "import cv2"
     ],
     "language": "python",
     "metadata": {},
     "outputs": [],
     "prompt_number": 79
    },
    {
     "cell_type": "markdown",
     "metadata": {},
     "source": [
      "See here, a tiny image of the football. The goal (dohohoho) is to transform this image into ascii art.\n",
      "\n",
      "Tools used:\n",
      "\n",
      "OpenCV for image reading, and the built-in numpy array of OpenCV."
     ]
    },
    {
     "cell_type": "markdown",
     "metadata": {},
     "source": [
      "<img src='../galleries/image-to-ascii/football-ball.jpg'>"
     ]
    },
    {
     "cell_type": "markdown",
     "metadata": {},
     "source": [
      "Images are typically represented by an array of numbers in the form of [R,G,B]\n",
      "\n",
      "Example: [0,255,17]\n",
      "\n",
      "That would be a more or less green pixel. \n",
      "\n",
      "A football it is ideal for working with grayscale since it is already black and white. A grayscale array of numbers is easier to work with because instead of 3 colors/values, we're working with one value per pixel (essentially saying how dark/light a pixel is going to show)."
     ]
    },
    {
     "cell_type": "code",
     "collapsed": false,
     "input": [
      "img = cv2.imread(\"football-ball.jpg\",0)\n",
      "print img"
     ],
     "language": "python",
     "metadata": {},
     "outputs": [
      {
       "output_type": "stream",
       "stream": "stdout",
       "text": [
        "[[254 254 254 ..., 254 253 252]\n",
        " [254 254 254 ..., 254 254 253]\n",
        " [254 254 254 ..., 254 253 253]\n",
        " ..., \n",
        " [254 254 254 ..., 254 254 254]\n",
        " [254 254 254 ..., 254 254 254]\n",
        " [254 254 254 ..., 254 254 254]]\n"
       ]
      }
     ],
     "prompt_number": 80
    },
    {
     "cell_type": "markdown",
     "metadata": {},
     "source": [
      "<!-- TEASER_END -->"
     ]
    },
    {
     "cell_type": "code",
     "collapsed": false,
     "input": [
      "img.shape"
     ],
     "language": "python",
     "metadata": {},
     "outputs": [
      {
       "metadata": {},
       "output_type": "pyout",
       "prompt_number": 83,
       "text": [
        "(30, 40)"
       ]
      }
     ],
     "prompt_number": 83
    },
    {
     "cell_type": "markdown",
     "metadata": {},
     "source": [
      "As expected, we have rows and columns of numbers. Exactly 30 rows and 40 columns because our image is 30x40 pixels."
     ]
    },
    {
     "cell_type": "markdown",
     "metadata": {},
     "source": [
      "To convert an image into ascii, we need to map/draw a letter or ascii symbol for each number in the image. It is also not displayed the same as an image because we're saving it to a text file or just printing it straight to the console.\n",
      "\n",
      "Below here I have a mapping set up for these numbers. I chose a very simple scheme to use:\n",
      "\n",
      "Numbers 0-180 are represented by a 'W'\n",
      "\n",
      "Numbers 180+ are represented by a '!'\n",
      "\n",
      "This essentially creates a binary ascii image since there are only two symbols at play in any transformation."
     ]
    },
    {
     "cell_type": "code",
     "collapsed": false,
     "input": [
      "def setupAsciiMapping():\n",
      "    characterSet = list(('W'*18)+'!!!!!!!!')\n",
      "    for i in range(26):\n",
      "        for j in range(10):\n",
      "            asciiToNum[i*10+j]=characterSet[i]\n",
      "asciiToNum = {}\n",
      "setupAsciiMapping()\n",
      "print asciiToNum"
     ],
     "language": "python",
     "metadata": {},
     "outputs": [
      {
       "output_type": "stream",
       "stream": "stdout",
       "text": [
        "{0: 'W', 1: 'W', 2: 'W', 3: 'W', 4: 'W', 5: 'W', 6: 'W', 7: 'W', 8: 'W', 9: 'W', 10: 'W', 11: 'W', 12: 'W', 13: 'W', 14: 'W', 15: 'W', 16: 'W', 17: 'W', 18: 'W', 19: 'W', 20: 'W', 21: 'W', 22: 'W', 23: 'W', 24: 'W', 25: 'W', 26: 'W', 27: 'W', 28: 'W', 29: 'W', 30: 'W', 31: 'W', 32: 'W', 33: 'W', 34: 'W', 35: 'W', 36: 'W', 37: 'W', 38: 'W', 39: 'W', 40: 'W', 41: 'W', 42: 'W', 43: 'W', 44: 'W', 45: 'W', 46: 'W', 47: 'W', 48: 'W', 49: 'W', 50: 'W', 51: 'W', 52: 'W', 53: 'W', 54: 'W', 55: 'W', 56: 'W', 57: 'W', 58: 'W', 59: 'W', 60: 'W', 61: 'W', 62: 'W', 63: 'W', 64: 'W', 65: 'W', 66: 'W', 67: 'W', 68: 'W', 69: 'W', 70: 'W', 71: 'W', 72: 'W', 73: 'W', 74: 'W', 75: 'W', 76: 'W', 77: 'W', 78: 'W', 79: 'W', 80: 'W', 81: 'W', 82: 'W', 83: 'W', 84: 'W', 85: 'W', 86: 'W', 87: 'W', 88: 'W', 89: 'W', 90: 'W', 91: 'W', 92: 'W', 93: 'W', 94: 'W', 95: 'W', 96: 'W', 97: 'W', 98: 'W', 99: 'W', 100: 'W', 101: 'W', 102: 'W', 103: 'W', 104: 'W', 105: 'W', 106: 'W', 107: 'W', 108: 'W', 109: 'W', 110: 'W', 111: 'W', 112: 'W', 113: 'W', 114: 'W', 115: 'W', 116: 'W', 117: 'W', 118: 'W', 119: 'W', 120: 'W', 121: 'W', 122: 'W', 123: 'W', 124: 'W', 125: 'W', 126: 'W', 127: 'W', 128: 'W', 129: 'W', 130: 'W', 131: 'W', 132: 'W', 133: 'W', 134: 'W', 135: 'W', 136: 'W', 137: 'W', 138: 'W', 139: 'W', 140: 'W', 141: 'W', 142: 'W', 143: 'W', 144: 'W', 145: 'W', 146: 'W', 147: 'W', 148: 'W', 149: 'W', 150: 'W', 151: 'W', 152: 'W', 153: 'W', 154: 'W', 155: 'W', 156: 'W', 157: 'W', 158: 'W', 159: 'W', 160: 'W', 161: 'W', 162: 'W', 163: 'W', 164: 'W', 165: 'W', 166: 'W', 167: 'W', 168: 'W', 169: 'W', 170: 'W', 171: 'W', 172: 'W', 173: 'W', 174: 'W', 175: 'W', 176: 'W', 177: 'W', 178: 'W', 179: 'W', 180: '!', 181: '!', 182: '!', 183: '!', 184: '!', 185: '!', 186: '!', 187: '!', 188: '!', 189: '!', 190: '!', 191: '!', 192: '!', 193: '!', 194: '!', 195: '!', 196: '!', 197: '!', 198: '!', 199: '!', 200: '!', 201: '!', 202: '!', 203: '!', 204: '!', 205: '!', 206: '!', 207: '!', 208: '!', 209: '!', 210: '!', 211: '!', 212: '!', 213: '!', 214: '!', 215: '!', 216: '!', 217: '!', 218: '!', 219: '!', 220: '!', 221: '!', 222: '!', 223: '!', 224: '!', 225: '!', 226: '!', 227: '!', 228: '!', 229: '!', 230: '!', 231: '!', 232: '!', 233: '!', 234: '!', 235: '!', 236: '!', 237: '!', 238: '!', 239: '!', 240: '!', 241: '!', 242: '!', 243: '!', 244: '!', 245: '!', 246: '!', 247: '!', 248: '!', 249: '!', 250: '!', 251: '!', 252: '!', 253: '!', 254: '!', 255: '!', 256: '!', 257: '!', 258: '!', 259: '!'}\n"
       ]
      }
     ],
     "prompt_number": 81
    },
    {
     "cell_type": "markdown",
     "metadata": {},
     "source": [
      "Above here I automated the task of creating a dictionary for this mapping.\n",
      "\n",
      "Now onto the actual transformation...\n",
      "\n",
      "In the bottom and final block of code, we see here that I am iterating through the image row by row to transform each number into the appropriate symbol of 'W' or '!' and then appending that into a list, which is then added to the list of <b>transformedAscii</b>. The variable <b>transformedAscii</b> is a list of lists, where each list is a row. It is essentially an array of the transformed symbols.\n",
      "\n",
      "From that list, I join the characters into a long string, and add a new line character at the end of each row to display the string properly.\n",
      "\n",
      "Pretty picture!"
     ]
    },
    {
     "cell_type": "code",
     "collapsed": false,
     "input": [
      "transformedAscii = []\n",
      "\n",
      "for i in img:\n",
      "    temp = []\n",
      "    for j in i:\n",
      "        temp.append(asciiToNum[j])\n",
      "    transformedAscii.append(temp)\n",
      "ascii = ''\n",
      "for i in transformedAscii:\n",
      "    ascii+= ' '.join(i)\n",
      "    ascii+='\\n'\n",
      "\n",
      "print ascii"
     ],
     "language": "python",
     "metadata": {},
     "outputs": [
      {
       "output_type": "stream",
       "stream": "stdout",
       "text": [
        "! ! ! ! ! ! ! ! ! ! ! ! ! ! ! ! ! ! ! ! ! ! ! ! ! ! ! ! ! ! ! ! ! ! ! ! ! ! ! !\n",
        "! ! ! ! ! ! ! ! ! ! ! ! ! ! ! ! ! ! ! ! ! ! ! ! ! ! ! ! ! ! ! ! ! ! ! ! ! ! ! !\n",
        "! ! ! ! ! ! ! ! ! ! ! ! ! ! ! ! ! ! ! ! ! ! ! ! ! ! ! ! ! ! ! ! ! ! ! ! ! ! ! !\n",
        "! ! ! ! ! ! ! ! ! ! ! ! ! ! ! ! ! W ! ! ! ! ! ! ! ! ! ! ! ! ! ! ! ! ! ! ! ! ! !\n",
        "! ! ! ! ! ! ! ! ! ! ! ! ! ! ! W W ! ! ! ! ! ! ! ! ! ! ! ! ! ! ! ! ! ! ! ! ! ! !\n",
        "! ! ! ! ! ! ! ! ! ! ! ! ! ! ! ! ! ! ! ! ! ! ! ! ! W W ! ! ! ! ! ! ! ! ! ! ! ! !\n",
        "! ! ! ! ! ! ! ! ! ! ! ! ! ! ! ! ! ! ! ! ! ! ! ! ! ! W W ! ! ! ! ! ! ! ! ! ! ! !\n",
        "! ! ! ! ! ! ! ! ! ! ! ! ! ! ! ! ! ! ! ! ! ! ! ! ! ! W W W ! ! ! ! ! ! ! ! ! ! !\n",
        "! ! ! ! ! ! ! ! ! ! ! ! ! ! ! ! W W W W W ! ! ! ! ! ! W W W ! ! ! ! ! ! ! ! ! !\n",
        "! ! ! ! ! ! ! ! ! ! ! ! ! ! ! W W W W W W W ! ! ! ! ! ! W W W ! ! ! ! ! ! ! ! !\n",
        "! ! ! ! ! ! ! ! ! W ! ! ! ! W W W W W W W W ! ! ! ! ! ! ! W W ! ! ! ! ! ! ! ! !\n",
        "! ! ! ! ! ! ! ! ! W ! ! ! ! W W W W W W W W ! ! ! ! ! ! ! ! ! ! ! ! ! ! ! ! ! !\n",
        "! ! ! ! ! ! ! ! W W ! ! ! ! W W W W W W W W ! ! ! ! ! ! ! ! ! ! ! ! ! ! ! ! ! !\n",
        "! ! ! ! ! ! ! ! W W ! ! ! ! W W W W W W W W ! ! ! ! ! ! ! ! ! ! ! ! ! ! ! ! ! !\n",
        "! ! ! ! ! ! ! ! W ! ! ! ! ! ! W W W W W W ! ! ! ! ! ! ! ! ! ! ! ! ! ! ! ! ! ! !\n",
        "! ! ! ! ! ! ! ! W ! ! ! ! ! ! ! W W ! ! ! ! ! ! ! ! ! ! ! ! ! ! ! ! ! ! ! ! ! !\n",
        "! ! ! ! ! ! ! ! W ! ! ! ! ! ! ! ! ! ! ! ! ! ! ! ! ! ! ! W W ! ! ! ! ! ! ! ! ! !\n",
        "! ! ! ! ! ! ! ! ! ! ! ! ! ! ! ! ! ! ! ! ! ! ! ! ! W W W W W W ! ! ! ! ! ! ! ! !\n",
        "! ! ! ! ! ! ! ! ! ! ! ! ! ! ! ! ! ! ! ! ! ! ! ! ! W W W W W W ! ! ! ! ! ! ! ! !\n",
        "! ! ! ! ! ! ! ! ! ! ! ! ! ! ! ! ! ! ! ! ! ! ! ! ! W W W W W W ! ! ! ! ! ! ! ! !\n",
        "! ! ! ! ! ! ! ! ! ! ! ! ! ! ! ! ! ! ! ! ! ! ! ! ! W W W W W ! ! ! ! ! ! ! ! ! !\n",
        "! ! ! ! ! ! ! ! ! ! ! W W W W W W ! ! ! ! ! ! ! W W W W W W ! ! ! ! ! ! ! ! ! !\n",
        "! ! ! ! ! ! ! ! ! ! ! W W W W W W W ! ! ! ! ! ! W W W W W ! ! ! ! ! ! ! ! ! ! !\n",
        "! ! ! ! ! ! ! ! ! ! ! ! W W W W W W W ! ! ! ! ! ! W W W ! ! ! ! ! ! ! ! ! ! ! !\n",
        "! ! ! ! ! ! ! ! ! ! ! ! ! W W W W W W W ! ! W W W W W ! ! ! ! ! ! ! ! ! ! ! ! !\n",
        "! ! ! ! ! ! ! ! ! ! ! ! ! ! W W W W W W W W W W W ! ! ! ! ! ! ! ! ! ! ! ! ! ! !\n",
        "! ! ! ! ! ! ! ! ! ! ! ! ! ! ! ! ! W W W W ! ! ! ! ! ! ! ! ! ! ! ! ! ! ! ! ! ! !\n",
        "! ! ! ! ! ! ! ! ! ! ! ! ! ! ! ! ! ! ! ! ! ! ! ! ! ! ! ! ! ! ! ! ! ! ! ! ! ! ! !\n",
        "! ! ! ! ! ! ! ! ! ! ! ! ! ! ! ! ! ! ! ! ! ! ! ! ! ! ! ! ! ! ! ! ! ! ! ! ! ! ! !\n",
        "! ! ! ! ! ! ! ! ! ! ! ! ! ! ! ! ! ! ! ! ! ! ! ! ! ! ! ! ! ! ! ! ! ! ! ! ! ! ! !\n",
        "\n"
       ]
      }
     ],
     "prompt_number": 82
    }
   ],
   "metadata": {}
  }
 ]
}