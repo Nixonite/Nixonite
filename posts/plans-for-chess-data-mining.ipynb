{
 "cells": [
  {
   "cell_type": "markdown",
   "metadata": {
    "collapsed": false
   },
   "source": [
    "#Plans for Chess Data Mining\n",
    "\n",
    "So I'm not so sure that chess is entirely beaten to death yet. The game is still pretty big, lots of money in it for the top players, lots of games have been logged, chess engines are wicked fast (so are modern computers), and now everyone plays online so there are a bazillion amateur games being created every day. \n",
    "\n",
    "BUT\n",
    "\n",
    "Finding and accessing good data is still a problem. For one, it can become proprietary with a few tweaks - for example - ChessBase.\n",
    "\n",
    "I really do not like ChessBase. \n",
    "\n",
    "Why? Starting out - the company is entirely dedicated to Microsoft Windows. Apparently they tried to release ChessBase for Mac, but it didn't sell well, so they've just stopped that entirely. From thereon, it's obvious that they don't support Linux based operating systems either. Okay, that sucks. \n",
    "\n",
    "<!-- TEASER_END -->\n",
    "\n",
    "What sucks more about ChessBase is that they hold so many chess game logs to themselves. It's near impossible to access raw PGN file dumps of their mega chess database. It holds the largest collection of games ever compiled. Why is this stuff proprietary? Well, they add in annotations. Although chess games are not considered IP, annotations are. Actually, a step further, creative collections are also considered IP. \n",
    "\n",
    "I'm not sure how that matters for chess games, but yeah, intellectual property is a bitch with chess, and they are the monopoly here. \n",
    "\n",
    "So we're restricted to TWIC (theweekinchess.com) for games (unless the guy who releases that also would claim IP for the entire collection), MillionBase, SCID's DB, or that one forgotten database... forgot the name. Long story short, chess data is a clusterfuck of IP problems if you're trying to gather and open-source a huge collection. \n",
    "\n",
    "Interestingly enough, once that is all gathered, the data is still plagued with other kinds of messes. The names are sometimes spelled differently, there is the issue of older games not having ELO scores... and even if they do, it wouldn't translate well into modern ELO (inflation or something?).\n",
    "\n",
    "One issue that I'm tackling personally is the creation of a chess game scores dataset. Although there are millions of PGN files out there, there is only one large dataset which I have found that is entirely a collection of chess engine evaluations of games. The one on Kaggle for the 'Finding Elo' challenge. Only 50,000 games were analyzed for 1 second per move using Stockfish.\n",
    "\n",
    "I have personally created a dataset of 100,000 evaluated games using the MillionBase PGN files... which is only 5% of my PGN collection. It's an extremely slow process, and very taxing on my cpu cores. I believe the only proper way of going about the mass-scale evaluation of millions of chess games is to simply throw money at the problem. I believe that a 1000-node cluster of computers would be necessary to analyze all of these games, costing maybe $1k for a few hours of work across all of the machines. I estimate the same result on my home machine to take nearly half a year. \n",
    "\n",
    "So why in the world would I even want to create such a dataset? \n",
    "\n",
    "Because it doesn't exist yet, it is extremely difficult to generate, it is an extremely good way to figure out the 'strength' of a player or move, and it's far more useful than the typical tree-view of moves we see on websites like chess.com or ChessBase which show the percentage of players who have made X move after Y. It's more useful because that tree runs out fairly quickly as each game of chess is unique, like a snowflake!\n",
    "\n",
    "So yep. Going to make that dataset. Somehow. "
   ]
  },
  {
   "cell_type": "code",
   "execution_count": null,
   "metadata": {
    "collapsed": true
   },
   "outputs": [],
   "source": []
  }
 ],
 "metadata": {
  "kernelspec": {
   "display_name": "Python 2",
   "language": "python",
   "name": "python2"
  },
  "language_info": {
   "codemirror_mode": {
    "name": "ipython",
    "version": 2
   },
   "file_extension": ".py",
   "mimetype": "text/x-python",
   "name": "python",
   "nbconvert_exporter": "python",
   "pygments_lexer": "ipython2",
   "version": "2.7.6"
  }
 },
 "nbformat": 4,
 "nbformat_minor": 0
}
